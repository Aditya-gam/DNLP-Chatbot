{
  "cells": [
    {
      "cell_type": "markdown",
      "metadata": {
        "id": "nd8ddC7NQ8uZ",
        "pycharm": {
          "name": "#%% md\n"
        }
      },
      "source": [
        "# Install and Import Libraries"
      ]
    },
    {
      "cell_type": "code",
      "execution_count": 1,
      "metadata": {
        "id": "iYtRZTcwXg6A"
      },
      "outputs": [],
      "source": [
        "# !pip install protobuf==3.19.6 # Install a specific version of the 'protobuf' package\n",
        "# !pip install tensorflow==2.9.1 tensorflow_datasets==4.6.0 # Install TensorFlow and TensorFlow Datasets with specific versions\n",
        "# !pip install --upgrade tfds-nightly # Install the latest version of TensorFlow Datasets Nightly\n",
        "# !pip show protobuf tensorflow tfds-nightly # Display information about the installed versions"
      ]
    },
    {
      "cell_type": "code",
      "execution_count": 2,
      "metadata": {
        "colab": {
          "base_uri": "https://localhost:8080/"
        },
        "id": "mb_5bl7G_n30",
        "outputId": "925866ad-0963-429f-94bb-62c0deb663d1",
        "pycharm": {
          "name": "#%%\n"
        }
      },
      "outputs": [
        {
          "output_type": "stream",
          "name": "stdout",
          "text": [
            "TensorFlow version 2.14.0\n"
          ]
        }
      ],
      "source": [
        "# Importing necessary modules\n",
        "import numpy as np\n",
        "import pandas as pd\n",
        "import matplotlib.pyplot as plt\n",
        "import time\n",
        "\n",
        "import sys\n",
        "import os\n",
        "import re\n",
        "import pickle\n",
        "from __future__ import absolute_import, division, print_function, unicode_literals\n",
        "\n",
        "import tensorflow as tf\n",
        "import tensorflow_datasets as tfds\n",
        "\n",
        "# Set a random seed for reproducibility in TensorFlow\n",
        "tf.keras.utils.set_random_seed(1234)\n",
        "\n",
        "# Print the TensorFlow version to the console\n",
        "print(f\"TensorFlow version {tf.__version__}\")"
      ]
    },
    {
      "cell_type": "markdown",
      "metadata": {
        "id": "h8RTvLYeBh8R"
      },
      "source": [
        "#### Check if TPU cluster exists"
      ]
    },
    {
      "cell_type": "code",
      "execution_count": 3,
      "metadata": {
        "colab": {
          "base_uri": "https://localhost:8080/"
        },
        "id": "MVrSIThNS06o",
        "outputId": "5d2e424c-2c19-4fb9-d6f3-c7276768ff91"
      },
      "outputs": [
        {
          "output_type": "stream",
          "name": "stdout",
          "text": [
            "REPLICAS: 1\n"
          ]
        }
      ],
      "source": [
        "try:\n",
        "    # Attempt to resolve a TPU cluster\n",
        "    tpu = tf.distribute.cluster_resolver.TPUClusterResolver()\n",
        "\n",
        "    # Print information about the TPU cluster if available\n",
        "    print(f\"Running on TPU {tpu.cluster_spec().as_dict()['worker']}\")\n",
        "\n",
        "except ValueError:\n",
        "    # If TPU is not available, set tpu to None\n",
        "    tpu = None\n",
        "\n",
        "# Check if TPU is available\n",
        "if tpu:\n",
        "    # Connect to the TPU cluster and initialize the TPU system\n",
        "    tf.config.experimental_connect_to_cluster(tpu)\n",
        "    tf.tpu.experimental.initialize_tpu_system(tpu)\n",
        "\n",
        "    # Create a TPU strategy\n",
        "    strategy = tf.distribute.experimental.TPUStrategy(tpu)\n",
        "else:\n",
        "    # If TPU is not available, use the default strategy\n",
        "    strategy = tf.distribute.get_strategy()\n",
        "\n",
        "# Print the number of replicas in the distributed strategy\n",
        "print(f\"REPLICAS: {strategy.num_replicas_in_sync}\")"
      ]
    },
    {
      "cell_type": "markdown",
      "metadata": {
        "id": "t3v5JH-kBh8T"
      },
      "source": [
        "# Data Preprocessing"
      ]
    },
    {
      "cell_type": "markdown",
      "metadata": {
        "id": "skMfzRV5cEnb",
        "pycharm": {
          "name": "#%% md\n"
        }
      },
      "source": [
        "## Define Hyperparameters\n",
        "\n",
        "To keep this example small and relatively fast, the values for *num_layers, d_model, and units* have been reduced. See the [paper](https://arxiv.org/abs/1706.03762) for all the other versions of the transformer."
      ]
    },
    {
      "cell_type": "code",
      "execution_count": 4,
      "metadata": {
        "id": "alnYEatYcHp7",
        "pycharm": {
          "name": "#%%\n"
        }
      },
      "outputs": [],
      "source": [
        "# Maximum sentence length for text preprocessing\n",
        "MAX_LENGTH = 40\n",
        "\n",
        "# Maximum number of samples to preprocess\n",
        "MAX_SAMPLES = 100000\n",
        "\n",
        "# Batch size for tf.data.Dataset\n",
        "BATCH_SIZE = 64\n",
        "\n",
        "# Buffer size for shuffling the dataset\n",
        "BUFFER_SIZE = 20000\n",
        "\n",
        "# Transformer model hyperparameters\n",
        "NUM_LAYERS = 2  # Number of transformer layers\n",
        "D_MODEL = 256   # Dimension of the model\n",
        "NUM_HEADS = 8    # Number of attention heads\n",
        "UNITS = 512      # Number of units in the feedforward network\n",
        "DROPOUT = 0.1    # Dropout rate\n",
        "\n",
        "# Number of training epochs\n",
        "EPOCHS = 60"
      ]
    },
    {
      "cell_type": "markdown",
      "metadata": {
        "id": "y0AqALdZCbCW",
        "pycharm": {
          "name": "#%% md\n"
        }
      },
      "source": [
        "## Prepare Dataset"
      ]
    },
    {
      "cell_type": "code",
      "execution_count": 5,
      "metadata": {
        "id": "S17Nfn6W_vhd",
        "pycharm": {
          "name": "#%%\n"
        }
      },
      "outputs": [],
      "source": [
        "# Download and extract the Cornell Movie Dialogs Corpus\n",
        "path_to_zip = tf.keras.utils.get_file(\n",
        "    \"cornell_movie_dialogs.zip\",\n",
        "    origin=\"http://www.cs.cornell.edu/~cristian/data/cornell_movie_dialogs_corpus.zip\",\n",
        "    extract=True,\n",
        ")\n",
        "\n",
        "# Define paths to the dataset and its components\n",
        "path_to_dataset = os.path.join(os.path.dirname(path_to_zip), \"cornell movie-dialogs corpus\")\n",
        "\n",
        "# Paths to specific files in the dataset\n",
        "path_to_movie_lines = os.path.join(path_to_dataset, \"movie_lines.txt\")\n",
        "path_to_movie_conversations = os.path.join(path_to_dataset, \"movie_conversations.txt\")"
      ]
    },
    {
      "cell_type": "markdown",
      "metadata": {
        "id": "ln6YBDPWS06q"
      },
      "source": [
        "## Define Functions for Preprocessing"
      ]
    },
    {
      "cell_type": "code",
      "execution_count": 6,
      "metadata": {
        "id": "_B147qKb_0ks",
        "pycharm": {
          "name": "#%%\n"
        }
      },
      "outputs": [],
      "source": [
        "# Preprocess sentences to remove unwanted characters and symbols.\n",
        "\n",
        "# Args:\n",
        "# sentence (str): Input sentence to be preprocessed.\n",
        "\n",
        "# Returns:\n",
        "# sentence (str): The preprocessed sentence after converting to lowercase, adding spaces between words and punctuation,\n",
        "# handling contractions, removing unwanted characters, and stripping leading/trailing whitespaces.\n",
        "\n",
        "def preprocess_sentence(sentence):\n",
        "    # Convert to lowercase and remove leading/trailing whitespaces\n",
        "    sentence = sentence.lower().strip()\n",
        "\n",
        "    # Add space between words and punctuation\n",
        "    sentence = re.sub(r\"([?.!,])\", r\" \\1 \", sentence)\n",
        "    sentence = re.sub(r'[\" \"]+', \" \", sentence)\n",
        "\n",
        "    # Handle contractions\n",
        "    contractions = {\n",
        "        \"i'm\": \"i am\",\n",
        "        \"he's\": \"he is\",\n",
        "        \"she's\": \"she is\",\n",
        "        \"it's\": \"it is\",\n",
        "        \"that's\": \"that is\",\n",
        "        \"what's\": \"that is\",\n",
        "        \"where's\": \"where is\",\n",
        "        \"how's\": \"how is\",\n",
        "        \"'ll\": \" will\",\n",
        "        \"'ve\": \" have\",\n",
        "        \"'re\": \" are\",\n",
        "        \"'d\": \" would\",\n",
        "        \"won't\": \"will not\",\n",
        "        \"can't\": \"cannot\",\n",
        "        \"n't\": \" not\",\n",
        "        \"n'\": \"ng\",\n",
        "        \"'bout\": \"about\"\n",
        "    }\n",
        "    sentence = ' '.join([contractions.get(word, word) for word in sentence.split()])\n",
        "\n",
        "    # Remove characters other than (a-z, A-Z, \".\", \"?\", \"!\", \",\")\n",
        "    sentence = re.sub(r\"[^a-zA-Z?.!,]+\", \" \", sentence)\n",
        "\n",
        "    # Remove leading/trailing whitespaces\n",
        "    sentence = sentence.strip()\n",
        "\n",
        "    return sentence"
      ]
    },
    {
      "cell_type": "code",
      "execution_count": 7,
      "metadata": {
        "id": "1ccjAIXiBh8V"
      },
      "outputs": [],
      "source": [
        "# Load conversations from movie lines and movie conversations files.\n",
        "\n",
        "# Args:\n",
        "# None\n",
        "\n",
        "# Returns:\n",
        "# Tuple of lists: (inputs, outputs)\n",
        "# inputs (list): List of preprocessed input sentences.\n",
        "# outputs (list): List of preprocessed output sentences.\n",
        "\n",
        "def load_conversations():\n",
        "    # Dictionary to store line id to text mapping\n",
        "    id2line = {}\n",
        "\n",
        "    # Read movie lines file and create id2line dictionary\n",
        "    with open(path_to_movie_lines, errors=\"ignore\") as file:\n",
        "        lines = file.readlines()\n",
        "\n",
        "    for line in lines:\n",
        "        parts = line.replace(\"\\n\", \"\").split(\" +++$+++ \")\n",
        "        id2line[parts[0]] = parts[4]\n",
        "\n",
        "    inputs, outputs = [], []\n",
        "\n",
        "    # Read movie conversations file and process conversations\n",
        "    with open(path_to_movie_conversations, \"r\") as file:\n",
        "        lines = file.readlines()\n",
        "\n",
        "    for line in lines:\n",
        "        parts = line.replace(\"\\n\", \"\").split(\" +++$+++ \")\n",
        "\n",
        "        # Get conversation as a list of line IDs\n",
        "        conversation = [line[1:-1] for line in parts[3][1:-1].split(\", \")]\n",
        "\n",
        "        # Iterate through conversation pairs\n",
        "        for i in range(len(conversation) - 1):\n",
        "            inputs.append(preprocess_sentence(id2line[conversation[i]]))\n",
        "            outputs.append(preprocess_sentence(id2line[conversation[i + 1]]))\n",
        "\n",
        "            # Check if the maximum number of samples is reached\n",
        "            if len(inputs) >= MAX_SAMPLES:\n",
        "                return inputs, outputs\n",
        "\n",
        "    return inputs, outputs"
      ]
    },
    {
      "cell_type": "code",
      "execution_count": 8,
      "metadata": {
        "id": "CzWayB6tBh8V"
      },
      "outputs": [],
      "source": [
        "# Tokenize and filter input and output sentences.\n",
        "\n",
        "# Args:\n",
        "# inputs (list): List of preprocessed input sentences.\n",
        "# outputs (list): List of preprocessed output sentences.\n",
        "\n",
        "# Returns:\n",
        "# Tuple of NumPy arrays: (tokenized_inputs, tokenized_outputs)\n",
        "# tokenized_inputs (numpy.ndarray): Padded and tokenized input sequences.\n",
        "# tokenized_outputs (numpy.ndarray): Padded and tokenized output sequences.\n",
        "\n",
        "def tokenize_and_filter(inputs, outputs):\n",
        "    tokenized_inputs, tokenized_outputs = [], []\n",
        "\n",
        "    for (sentence1, sentence2) in zip(inputs, outputs):\n",
        "        # Tokenize sentences and add start/end tokens\n",
        "        sentence1 = START_TOKEN + tokenizer.encode(sentence1) + END_TOKEN\n",
        "        sentence2 = START_TOKEN + tokenizer.encode(sentence2) + END_TOKEN\n",
        "\n",
        "        # Check if tokenized sentences are within the max length\n",
        "        if len(sentence1) <= MAX_LENGTH and len(sentence2) <= MAX_LENGTH:\n",
        "            tokenized_inputs.append(sentence1)\n",
        "            tokenized_outputs.append(sentence2)\n",
        "\n",
        "    # Pad tokenized sentences to max length\n",
        "    tokenized_inputs = tf.keras.preprocessing.sequence.pad_sequences(\n",
        "        tokenized_inputs, maxlen=MAX_LENGTH, padding=\"post\"\n",
        "    )\n",
        "    tokenized_outputs = tf.keras.preprocessing.sequence.pad_sequences(\n",
        "        tokenized_outputs, maxlen=MAX_LENGTH, padding=\"post\"\n",
        "    )\n",
        "\n",
        "    return tokenized_inputs, tokenized_outputs"
      ]
    },
    {
      "cell_type": "markdown",
      "metadata": {
        "id": "iihdufJBBh8V"
      },
      "source": [
        "## Preprocess Data"
      ]
    },
    {
      "cell_type": "code",
      "execution_count": 9,
      "metadata": {
        "colab": {
          "base_uri": "https://localhost:8080/"
        },
        "id": "s6XX2udMTCQt",
        "outputId": "2c6413ee-4eb0-4453-c0ca-38f6856934a6",
        "pycharm": {
          "name": "#%%\n"
        }
      },
      "outputs": [
        {
          "output_type": "stream",
          "name": "stdout",
          "text": [
            "Vocab size: 8174\n",
            "Number of samples: 87812\n"
          ]
        }
      ],
      "source": [
        "# Load conversations\n",
        "questions, answers = load_conversations()\n",
        "\n",
        "# Build tokenizer using tfds for both questions and answers\n",
        "tokenizer = tfds.deprecated.text.SubwordTextEncoder.build_from_corpus(\n",
        "    questions + answers, target_vocab_size=2**13\n",
        ")\n",
        "\n",
        "# Define start and end token to indicate the start and end of a sentence\n",
        "START_TOKEN, END_TOKEN = [tokenizer.vocab_size], [tokenizer.vocab_size + 1]\n",
        "\n",
        "# Vocabulary size plus start and end token\n",
        "VOCAB_SIZE = tokenizer.vocab_size + 2\n",
        "\n",
        "# Tokenize and filter questions and answers\n",
        "questions, answers = tokenize_and_filter(questions, answers)\n",
        "\n",
        "# Print vocabulary size and number of samples\n",
        "print(f\"Vocab size: {VOCAB_SIZE}\")\n",
        "print(f\"Number of samples: {len(questions)}\")"
      ]
    },
    {
      "cell_type": "code",
      "execution_count": 10,
      "metadata": {
        "id": "XmZlqS8fBh8W"
      },
      "outputs": [],
      "source": [
        "# Get the lengths of sentences in the given data.\n",
        "\n",
        "# Parameters:\n",
        "# - data (list): A list of sentences, where each sentence is a list of words.\n",
        "\n",
        "# Returns:\n",
        "# - list: A list of integers representing the lengths of sentences.\n",
        "\n",
        "def get_sentence_lengths(data):\n",
        "    lengths = []\n",
        "    for sentence in data:\n",
        "        length = 0\n",
        "        for word in sentence:\n",
        "            if word == 0:  # Assuming 0 represents padding\n",
        "                break\n",
        "            else:\n",
        "                length += 1\n",
        "        lengths.append(length)\n",
        "    return lengths"
      ]
    },
    {
      "cell_type": "code",
      "execution_count": 11,
      "metadata": {
        "id": "mLccQ09rBh8W",
        "outputId": "8377e699-3c36-4cbf-a503-30e6b2b1f8e8",
        "colab": {
          "base_uri": "https://localhost:8080/",
          "height": 508
        }
      },
      "outputs": [
        {
          "output_type": "stream",
          "name": "stdout",
          "text": [
            "Average question length = 13.4841\n",
            "Average answer length = 13.6199\n"
          ]
        },
        {
          "output_type": "display_data",
          "data": {
            "text/plain": [
              "<Figure size 640x480 with 1 Axes>"
            ],
            "image/png": "[encoded data removed]"
          },
          "metadata": {}
        }
      ],
      "source": [
        "# Get sentence lengths for questions and answers\n",
        "question_lengths = get_sentence_lengths(questions)\n",
        "answer_lengths = get_sentence_lengths(answers)\n",
        "\n",
        "# Create dictionaries to count occurrences of different sentence lengths\n",
        "question_length_counts = {i: 0 for i in range(1, np.max(question_lengths) + 1)}\n",
        "for length in question_lengths:\n",
        "    question_length_counts[length] += 1\n",
        "\n",
        "answer_length_counts = {i: 0 for i in range(1, 101)}\n",
        "for length in answer_lengths:\n",
        "    answer_length_counts[length] += 1\n",
        "\n",
        "# Plot the distribution of sentence lengths\n",
        "plt.bar([i for i in range(1, 101)], [question_length_counts.get(i, 0) for i in range(1, 101)], label='Questions', width=0.3)\n",
        "plt.bar([i + 0.4 for i in range(1, 101)], [answer_length_counts.get(i, 0) for i in range(1, 101)], label='Answers', width=0.3)\n",
        "plt.legend()\n",
        "plt.xlabel('Length of the sentence')\n",
        "plt.ylabel('Number of sentences')\n",
        "plt.title('Dataset Distribution')\n",
        "\n",
        "# Limit x-axis to 50\n",
        "plt.xlim(0, 50)\n",
        "\n",
        "plt.savefig('dataset.png', dpi=300)\n",
        "\n",
        "# Print average lengths of questions and answers\n",
        "print(f'Average question length = {np.mean(question_lengths):.4f}')\n",
        "print(f'Average answer length = {np.mean(answer_lengths):.4f}')"
      ]
    },
    {
      "cell_type": "code",
      "execution_count": 12,
      "metadata": {
        "id": "UVxI2LKsCjlm"
      },
      "outputs": [],
      "source": [
        "# q_path = 'q.pickle'\n",
        "# a_path = 'a.pickle'\n",
        "\n",
        "# # Save tokenized questions to a pickle file\n",
        "# # with open(q_path, 'wb') as file:\n",
        "# #   pickle.dump(questions, file)\n",
        "\n",
        "# # Save tokenized answers to a pickle file\n",
        "# # with open(a_path, 'wb') as file:\n",
        "# #   pickle.dump(answers, file)\n",
        "\n",
        "# # Clear variables from memory\n",
        "# questions = None\n",
        "# answers = None\n",
        "\n",
        "# # Load tokenized questions from the pickle file\n",
        "# with open(q_path, 'rb') as file:\n",
        "#     questions = pickle.load(file)\n",
        "\n",
        "# # Load tokenized answers from the pickle file\n",
        "# with open(a_path, 'rb') as file:\n",
        "#     answers = pickle.load(file)\n",
        "\n",
        "# # Print the number of samples after loading from pickle\n",
        "# print(f\"Number of samples: {len(questions)}\")"
      ]
    },
    {
      "cell_type": "code",
      "execution_count": 13,
      "metadata": {
        "id": "pttC3XxgAXWQ",
        "pycharm": {
          "name": "#%%\n"
        },
        "outputId": "eb581daa-1da8-4088-f80d-8aaef3826524",
        "colab": {
          "base_uri": "https://localhost:8080/"
        }
      },
      "outputs": [
        {
          "output_type": "stream",
          "name": "stdout",
          "text": [
            "<_PrefetchDataset element_spec=({'inputs': TensorSpec(shape=(None, 40), dtype=tf.int32, name=None), 'dec_inputs': TensorSpec(shape=(None, 39), dtype=tf.int32, name=None)}, {'outputs': TensorSpec(shape=(None, 39), dtype=tf.int32, name=None)})>\n"
          ]
        }
      ],
      "source": [
        "# Decoder inputs use the previous target as input\n",
        "# Remove START_TOKEN from targets\n",
        "dataset = tf.data.Dataset.from_tensor_slices(\n",
        "    (\n",
        "        {\"inputs\": questions, \"dec_inputs\": answers[:, :-1]},\n",
        "        {\"outputs\": answers[:, 1:]},\n",
        "    )\n",
        ")\n",
        "\n",
        "# Cache the dataset for better performance\n",
        "dataset = dataset.cache()\n",
        "\n",
        "# Shuffle the dataset\n",
        "dataset = dataset.shuffle(BUFFER_SIZE)\n",
        "\n",
        "# Batch the dataset\n",
        "dataset = dataset.batch(BATCH_SIZE)\n",
        "\n",
        "# Prefetch the dataset for improved training speed\n",
        "dataset = dataset.prefetch(tf.data.AUTOTUNE)\n",
        "\n",
        "# Print the dataset information\n",
        "print(dataset)"
      ]
    },
    {
      "cell_type": "markdown",
      "metadata": {
        "id": "s9eeMPjGXmI1",
        "pycharm": {
          "name": "#%% md\n"
        }
      },
      "source": [
        "## Attention\n",
        "\n"
      ]
    },
    {
      "cell_type": "code",
      "execution_count": 14,
      "metadata": {
        "id": "ENfqAFna_50H",
        "pycharm": {
          "name": "#%%\n"
        }
      },
      "outputs": [],
      "source": [
        "# Calculate the attention weights.\n",
        "\n",
        "# Args:\n",
        "# - query: Query tensor\n",
        "# - key: Key tensor\n",
        "# - value: Value tensor\n",
        "# - mask: Mask tensor to zero out padding tokens\n",
        "\n",
        "# Returns:\n",
        "# - Output tensor after attention calculation\n",
        "\n",
        "def scaled_dot_product_attention(query, key, value, mask):\n",
        "    # Calculate the dot product of query and key\n",
        "    matmul_qk = tf.matmul(query, key, transpose_b=True)\n",
        "\n",
        "    # Scale the dot product\n",
        "    depth = tf.cast(tf.shape(key)[-1], tf.float32)\n",
        "    logits = matmul_qk / tf.math.sqrt(depth)\n",
        "\n",
        "    # Add the mask to zero out padding tokens\n",
        "    if mask is not None:\n",
        "        logits += mask * -1e9\n",
        "\n",
        "    # Apply softmax to normalize on the last axis (seq_len_k)\n",
        "    attention_weights = tf.nn.softmax(logits, axis=-1)\n",
        "\n",
        "    # Calculate the weighted sum using attention weights\n",
        "    output = tf.matmul(attention_weights, value)\n",
        "\n",
        "    return output"
      ]
    },
    {
      "cell_type": "code",
      "execution_count": 15,
      "metadata": {
        "id": "L9eYssGIAG4h",
        "pycharm": {
          "name": "#%%\n"
        }
      },
      "outputs": [],
      "source": [
        "class MultiHeadAttentionLayer(tf.keras.layers.Layer):\n",
        "\n",
        "    # Initialize a Multi-Head Attention layer.\n",
        "    # Args:\n",
        "    # d_model (int): Dimensionality of the model.\n",
        "    # num_heads (int): Number of attention heads.\n",
        "\n",
        "    # Returns:\n",
        "    # None\n",
        "    def __init__(self, d_model, num_heads, **kwargs):\n",
        "        assert d_model % num_heads == 0  # Ensure the model dimensions are divisible by the number of heads\n",
        "        super(MultiHeadAttentionLayer, self).__init__(**kwargs)\n",
        "        self.num_heads = num_heads  # Number of attention heads\n",
        "        self.d_model = d_model  # Dimensionality of the model\n",
        "\n",
        "        self.depth = d_model // self.num_heads  # Depth of each attention head\n",
        "\n",
        "        # Linear layers for query, key, value\n",
        "        self.query_dense = tf.keras.layers.Dense(units=d_model)\n",
        "        self.key_dense = tf.keras.layers.Dense(units=d_model)\n",
        "        self.value_dense = tf.keras.layers.Dense(units=d_model)\n",
        "\n",
        "        # Final linear layer\n",
        "        self.dense = tf.keras.layers.Dense(units=d_model)\n",
        "\n",
        "    # Get the configuration of the Multi-Head Attention layer.\n",
        "    # Args:\n",
        "    # None\n",
        "\n",
        "    # Returns:\n",
        "    # config (dict): A dictionary containing the configuration parameters of the layer.\n",
        "    def get_config(self):\n",
        "        # Get the base configuration\n",
        "        config = super(MultiHeadAttentionLayer, self).get_config()\n",
        "        # Update with specific parameters of the Multi-Head Attention layer\n",
        "        config.update(\n",
        "            {\n",
        "                \"num_heads\": self.num_heads,\n",
        "                \"d_model\": self.d_model,\n",
        "            }\n",
        "        )\n",
        "\n",
        "        return config\n",
        "\n",
        "\n",
        "    # Split heads of the Multi-Head Attention layer.\n",
        "    # Args:\n",
        "    # inputs (tensor): Input tensor to be split.\n",
        "    # batch_size (int): Batch size.\n",
        "\n",
        "    # Returns:\n",
        "    # tensor: Tensor after splitting heads.\n",
        "    def split_heads(self, inputs, batch_size):\n",
        "        # Reshape and transpose to split heads\n",
        "        inputs = tf.keras.layers.Lambda(\n",
        "            lambda inputs: tf.reshape(\n",
        "                inputs, shape=(batch_size, -1, self.num_heads, self.depth)\n",
        "            )\n",
        "        )(inputs)\n",
        "\n",
        "        return tf.keras.layers.Lambda(\n",
        "            lambda inputs: tf.transpose(inputs, perm=[0, 2, 1, 3])\n",
        "        )(inputs)\n",
        "\n",
        "\n",
        "    # Perform the forward pass of the Multi-Head Attention layer.\n",
        "    # Args:\n",
        "    # inputs (dict): Dictionary containing 'query', 'key', 'value', and 'mask' tensors.\n",
        "\n",
        "    # Returns:\n",
        "    # outputs (tensor): Output tensor after the forward pass of the Multi-Head Attention layer.\n",
        "    def call(self, inputs):\n",
        "        query, key, value, mask = (\n",
        "            inputs[\"query\"],\n",
        "            inputs[\"key\"],\n",
        "            inputs[\"value\"],\n",
        "            inputs[\"mask\"],\n",
        "        )\n",
        "        batch_size = tf.shape(query)[0]\n",
        "\n",
        "        # Linear layers\n",
        "        query = self.query_dense(query)\n",
        "        key = self.key_dense(key)\n",
        "        value = self.value_dense(value)\n",
        "\n",
        "        # Split heads\n",
        "        query = self.split_heads(query, batch_size)\n",
        "        key = self.split_heads(key, batch_size)\n",
        "        value = self.split_heads(value, batch_size)\n",
        "\n",
        "        # Scaled dot-product attention\n",
        "        scaled_attention = scaled_dot_product_attention(query, key, value, mask)\n",
        "        scaled_attention = tf.keras.layers.Lambda(\n",
        "            lambda scaled_attention: tf.transpose(scaled_attention, perm=[0, 2, 1, 3])\n",
        "        )(scaled_attention)\n",
        "\n",
        "        # Concatenation of heads\n",
        "        concat_attention = tf.keras.layers.Lambda(\n",
        "            lambda scaled_attention: tf.reshape(\n",
        "                scaled_attention, (batch_size, -1, self.d_model)\n",
        "            )\n",
        "        )(scaled_attention)\n",
        "\n",
        "        # Final linear layer\n",
        "        outputs = self.dense(concat_attention)\n",
        "\n",
        "        return outputs"
      ]
    },
    {
      "cell_type": "markdown",
      "metadata": {
        "id": "eDUX7Oa8Xudj",
        "pycharm": {
          "name": "#%% md\n"
        }
      },
      "source": [
        "## Transformer"
      ]
    },
    {
      "cell_type": "markdown",
      "metadata": {
        "id": "x5QlgXsxYirg",
        "pycharm": {
          "name": "#%% md\n"
        }
      },
      "source": [
        "### Masking\n",
        "\n"
      ]
    },
    {
      "cell_type": "code",
      "execution_count": 16,
      "metadata": {
        "id": "imCQ0jrvWhC7",
        "pycharm": {
          "name": "#%%\n"
        }
      },
      "outputs": [],
      "source": [
        "# Create a padding mask for input sequences.\n",
        "\n",
        "# Args:\n",
        "# x (tensor): Input tensor.\n",
        "\n",
        "# Returns:\n",
        "# tensor: Padding mask with extra dimensions.\n",
        "\n",
        "def create_padding_mask(x):\n",
        "    # Create a mask where x is equal to 0\n",
        "    mask = tf.cast(tf.math.equal(x, 0), tf.float32)\n",
        "\n",
        "    # Add extra dimensions to the mask\n",
        "    # (batch_size, 1, 1, sequence length)\n",
        "    return mask[:, tf.newaxis, tf.newaxis, :]"
      ]
    },
    {
      "cell_type": "code",
      "execution_count": 17,
      "metadata": {
        "id": "HSVdD2zKWaXx",
        "pycharm": {
          "name": "#%%\n"
        }
      },
      "outputs": [],
      "source": [
        "# Create a look-ahead mask for input sequences.\n",
        "\n",
        "# Args:\n",
        "# x (tensor): Input tensor.\n",
        "\n",
        "# Returns:\n",
        "# tensor: Look-ahead mask combined with a padding mask.\n",
        "\n",
        "def create_look_ahead_mask(x):\n",
        "    seq_len = tf.shape(x)[1]\n",
        "\n",
        "    # Create a triangular mask with zeros on and below the main diagonal\n",
        "    look_ahead_mask = 1 - tf.linalg.band_part(tf.ones((seq_len, seq_len)), -1, 0)\n",
        "\n",
        "    # Create a padding mask\n",
        "    padding_mask = create_padding_mask(x)\n",
        "\n",
        "    # Combine the look-ahead mask with the padding mask using element-wise maximum\n",
        "    return tf.maximum(look_ahead_mask, padding_mask)"
      ]
    },
    {
      "cell_type": "markdown",
      "metadata": {
        "id": "TpR7kz4jFkPJ",
        "pycharm": {
          "name": "#%% md\n"
        }
      },
      "source": [
        "### Positional encoding\n",
        "\n",
        "$$\\Large{PE_{(pos, 2i)} = sin(pos / 10000^{2i / d_{model}})} $$\n",
        "$$\\Large{PE_{(pos, 2i+1)} = cos(pos / 10000^{2i / d_{model}})} $$"
      ]
    },
    {
      "cell_type": "code",
      "execution_count": 18,
      "metadata": {
        "id": "-9Oibz2es-qW",
        "pycharm": {
          "name": "#%%\n"
        }
      },
      "outputs": [],
      "source": [
        "# Positional Encoding layer for transformer models.\n",
        "class PositionalEncoding(tf.keras.layers.Layer):\n",
        "    # Initialize the Positional Encoding layer for transformer models.\n",
        "    # Args:\n",
        "    # position (int): Maximum position value for encoding.\n",
        "    # d_model (int): Dimensionality of the model.\n",
        "    def __init__(self, position, d_model, **kwargs):\n",
        "        super(PositionalEncoding, self).__init__(**kwargs)\n",
        "        self.position = position\n",
        "        self.d_model = d_model\n",
        "        self.pos_encoding = self.positional_encoding(position, d_model)\n",
        "\n",
        "    # Get the configuration of the Positional Encoding layer.\n",
        "    # Returns:\n",
        "    # dict: A dictionary containing the configuration parameters of the layer.\n",
        "    def get_config(self):\n",
        "        config = super(PositionalEncoding, self).get_config()\n",
        "        config.update(\n",
        "            {\n",
        "                \"position\": self.position,\n",
        "                \"d_model\": self.d_model,\n",
        "            }\n",
        "        )\n",
        "        return config\n",
        "\n",
        "    # Get angles for the positional encoding.\n",
        "    # Args:\n",
        "    # position (tensor): Position values for encoding.\n",
        "    # i (tensor): Indices for calculating angles.\n",
        "    # d_model (int): Dimensionality of the model.\n",
        "\n",
        "    # Returns:\n",
        "    # tensor: Angles used in the positional encoding.\n",
        "    def get_angles(self, position, i, d_model):\n",
        "        angles = 1 / tf.pow(10000, (2 * (i // 2)) / tf.cast(d_model, tf.float32))\n",
        "        return position * angles\n",
        "\n",
        "    # Calculate the positional encoding matrix.\n",
        "    # Args:\n",
        "    # position (int): Maximum position value for encoding.\n",
        "    # d_model (int): Dimensionality of the model.\n",
        "\n",
        "    # Returns:\n",
        "    # tensor: Positional encoding matrix.\n",
        "    def positional_encoding(self, position, d_model):\n",
        "        angle_rads = self.get_angles(\n",
        "            position=tf.range(position, dtype=tf.float32)[:, tf.newaxis],\n",
        "            i=tf.range(d_model, dtype=tf.float32)[tf.newaxis, :],\n",
        "            d_model=d_model,\n",
        "        )\n",
        "        # Apply sin to even index in the array\n",
        "        sines = tf.math.sin(angle_rads[:, 0::2])\n",
        "        # Apply cos to odd index in the array\n",
        "        cosines = tf.math.cos(angle_rads[:, 1::2])\n",
        "\n",
        "        pos_encoding = tf.concat([sines, cosines], axis=-1)\n",
        "        pos_encoding = pos_encoding[tf.newaxis, ...]\n",
        "        return tf.cast(pos_encoding, tf.float32)\n",
        "\n",
        "    # Perform the forward pass of the Positional Encoding layer.\n",
        "    # Args:\n",
        "    # inputs (tensor): Input tensor to be processed.\n",
        "\n",
        "    # Returns:\n",
        "    # tensor: Output tensor after adding positional encoding.\n",
        "    def call(self, inputs):\n",
        "        return inputs + self.pos_encoding[:, : tf.shape(inputs)[1], :]"
      ]
    },
    {
      "cell_type": "code",
      "execution_count": 19,
      "metadata": {
        "colab": {
          "base_uri": "https://localhost:8080/",
          "height": 455
        },
        "id": "UC_fQehi3_Yh",
        "outputId": "ac1f5dc5-2d01-48eb-846c-3c3571bebe23",
        "pycharm": {
          "name": "#%%\n"
        }
      },
      "outputs": [
        {
          "output_type": "display_data",
          "data": {
            "text/plain": [
              "<Figure size 640x480 with 2 Axes>"
            ],
            "image/png": "[encoded data removed]"
          },
          "metadata": {}
        }
      ],
      "source": [
        "sample_pos_encoding = PositionalEncoding(50, 512, name=\"sample_pos_encoding\")\n",
        "\n",
        "# Visualize the positional encoding\n",
        "plt.pcolormesh(sample_pos_encoding.pos_encoding.numpy()[0], cmap=\"RdBu\")\n",
        "plt.xlabel(\"Depth\")\n",
        "plt.xlim((0, 512))\n",
        "plt.ylabel(\"Position\")\n",
        "plt.colorbar()\n",
        "plt.show()"
      ]
    },
    {
      "cell_type": "code",
      "execution_count": 20,
      "metadata": {
        "id": "5guJOLJmfcuX",
        "pycharm": {
          "name": "#%%\n"
        }
      },
      "outputs": [],
      "source": [
        "# Create an encoder layer for a transformer model.\n",
        "\n",
        "# Args:\n",
        "# units (int): Number of units in the feedforward part of the layer.\n",
        "# d_model (int): Dimensionality of the model.\n",
        "# num_heads (int): Number of attention heads in the multi-head attention layer.\n",
        "# dropout (float): Dropout rate.\n",
        "# name (str): Name of the layer.\n",
        "\n",
        "# Returns:\n",
        "# tf.keras.Model: Encoder layer model.\n",
        "\n",
        "def encoder_layer(units, d_model, num_heads, dropout, name=\"encoder_layer\"):\n",
        "    inputs = tf.keras.Input(shape=(None, d_model), name=\"inputs\")\n",
        "    padding_mask = tf.keras.Input(shape=(1, 1, None), name=\"padding_mask\")\n",
        "\n",
        "    # Multi-head self-attention\n",
        "    attention = MultiHeadAttentionLayer(d_model, num_heads, name=\"attention\")(\n",
        "        {\"query\": inputs, \"key\": inputs, \"value\": inputs, \"mask\": padding_mask}\n",
        "    )\n",
        "    attention = tf.keras.layers.Dropout(rate=dropout)(attention)\n",
        "\n",
        "    # Skip connection and layer normalization\n",
        "    add_attention = tf.keras.layers.add([inputs, attention])\n",
        "    attention = tf.keras.layers.LayerNormalization(epsilon=1e-6)(add_attention)\n",
        "\n",
        "    # Feedforward part\n",
        "    outputs = tf.keras.layers.Dense(units=units, activation=\"relu\")(attention)\n",
        "    outputs = tf.keras.layers.Dense(units=d_model)(outputs)\n",
        "    outputs = tf.keras.layers.Dropout(rate=dropout)(outputs)\n",
        "\n",
        "    # Skip connection and layer normalization\n",
        "    add_attention = tf.keras.layers.add([attention, outputs])\n",
        "    outputs = tf.keras.layers.LayerNormalization(epsilon=1e-6)(add_attention)\n",
        "\n",
        "    return tf.keras.Model(inputs=[inputs, padding_mask], outputs=outputs, name=name)"
      ]
    },
    {
      "cell_type": "markdown",
      "metadata": {
        "id": "9r8lWGClfi_1",
        "pycharm": {
          "name": "#%% md\n"
        }
      },
      "source": [
        "### Encoder\n",
        "\n",
        "The Encoder consists of:\n",
        "1.   Input Embedding\n",
        "2.   Positional Encoding\n",
        "3.   `num_layers` encoder layers\n",
        "\n",
        "The input is put through an embedding which is summed with the positional encoding. The output of this summation is the input to the encoder layers. The output of the encoder is the input to the decoder."
      ]
    },
    {
      "cell_type": "code",
      "execution_count": 21,
      "metadata": {
        "id": "LRfugon5Wy-Y",
        "pycharm": {
          "name": "#%%\n"
        }
      },
      "outputs": [],
      "source": [
        "# Create an encoder for a transformer model.\n",
        "\n",
        "# Args:\n",
        "# vocab_size (int): Size of the vocabulary.\n",
        "# num_layers (int): Number of encoder layers.\n",
        "# units (int): Number of units in the feedforward part of each layer.\n",
        "# d_model (int): Dimensionality of the model.\n",
        "# num_heads (int): Number of attention heads in the multi-head attention layer.\n",
        "# dropout (float): Dropout rate.\n",
        "# name (str): Name of the encoder.\n",
        "\n",
        "# Returns:\n",
        "# tf.keras.Model: Encoder model.\n",
        "\n",
        "def encoder(vocab_size, num_layers, units, d_model, num_heads, dropout, name=\"encoder\"):\n",
        "    inputs = tf.keras.Input(shape=(None,), name=\"inputs\")\n",
        "    padding_mask = tf.keras.Input(shape=(1, 1, None), name=\"padding_mask\")\n",
        "\n",
        "    # Embedding layer with positional encoding\n",
        "    embeddings = tf.keras.layers.Embedding(vocab_size, d_model)(inputs)\n",
        "    embeddings *= tf.keras.layers.Lambda(\n",
        "        lambda d_model: tf.math.sqrt(tf.cast(d_model, tf.float32))\n",
        "    )(d_model)\n",
        "    embeddings = PositionalEncoding(vocab_size, d_model)(embeddings)\n",
        "\n",
        "    outputs = tf.keras.layers.Dropout(rate=dropout)(embeddings)\n",
        "\n",
        "    # Stack multiple encoder layers\n",
        "    for i in range(num_layers):\n",
        "        outputs = encoder_layer(\n",
        "            units=units,\n",
        "            d_model=d_model,\n",
        "            num_heads=num_heads,\n",
        "            dropout=dropout,\n",
        "            name=\"encoder_layer_{}\".format(i),\n",
        "        )([outputs, padding_mask])\n",
        "\n",
        "    return tf.keras.Model(inputs=[inputs, padding_mask], outputs=outputs, name=name)"
      ]
    },
    {
      "cell_type": "markdown",
      "metadata": {
        "id": "af66azvgW9P-",
        "pycharm": {
          "name": "#%% md\n"
        }
      },
      "source": [
        "### Decoder Layer\n",
        "\n",
        "Each decoder layer consists of sublayers:\n",
        "\n",
        "1.   Masked multi-head attention (with look ahead mask and padding mask)\n",
        "2.   Multi-head attention (with padding mask). `value` and `key` receive the *encoder output* as inputs. `query` receives the *output from the masked multi-head attention sublayer.*\n",
        "3.   2 dense layers followed by dropout\n",
        "\n",
        "Each of these sublayers has a residual connection around it followed by a layer normalization. The output of each sublayer is `LayerNorm(x + Sublayer(x))`. The normalization is done on the `d_model` (last) axis.\n",
        "\n",
        "As `query` receives the output from decoder's first attention block, and `key` receives the encoder output, the attention weights represent the importance given to the decoder's input based on the encoder's output. In other words, the decoder predicts the next word by looking at the encoder output and self-attending to its own output. See the demonstration above in the scaled dot product attention section."
      ]
    },
    {
      "cell_type": "code",
      "execution_count": 22,
      "metadata": {
        "id": "6mLvvNMWgDnf",
        "pycharm": {
          "name": "#%%\n"
        }
      },
      "outputs": [],
      "source": [
        "# Create a decoder layer for a transformer model.\n",
        "\n",
        "# Args:\n",
        "# units (int): Number of units in the feedforward part of the layer.\n",
        "# d_model (int): Dimensionality of the model.\n",
        "# num_heads (int): Number of attention heads in the multi-head attention layers.\n",
        "# dropout (float): Dropout rate.\n",
        "# name (str): Name of the layer.\n",
        "\n",
        "# Returns:\n",
        "# tf.keras.Model: Decoder layer model.\n",
        "\n",
        "def decoder_layer(units, d_model, num_heads, dropout, name=\"decoder_layer\"):\n",
        "    inputs = tf.keras.Input(shape=(None, d_model), name=\"inputs\")\n",
        "    enc_outputs = tf.keras.Input(shape=(None, d_model), name=\"encoder_outputs\")\n",
        "    look_ahead_mask = tf.keras.Input(shape=(1, None, None), name=\"look_ahead_mask\")\n",
        "    padding_mask = tf.keras.Input(shape=(1, 1, None), name=\"padding_mask\")\n",
        "\n",
        "    # Masked multi-head self-attention\n",
        "    attention1 = MultiHeadAttentionLayer(d_model, num_heads, name=\"attention_1\")(\n",
        "        inputs={\n",
        "            \"query\": inputs,\n",
        "            \"key\": inputs,\n",
        "            \"value\": inputs,\n",
        "            \"mask\": look_ahead_mask,\n",
        "        }\n",
        "    )\n",
        "    add_attention = tf.keras.layers.add([attention1, inputs])\n",
        "    attention1 = tf.keras.layers.LayerNormalization(epsilon=1e-6)(add_attention)\n",
        "\n",
        "    # Multi-head attention over encoder outputs\n",
        "    attention2 = MultiHeadAttentionLayer(d_model, num_heads, name=\"attention_2\")(\n",
        "        inputs={\n",
        "            \"query\": attention1,\n",
        "            \"key\": enc_outputs,\n",
        "            \"value\": enc_outputs,\n",
        "            \"mask\": padding_mask,\n",
        "        }\n",
        "    )\n",
        "    attention2 = tf.keras.layers.Dropout(rate=dropout)(attention2)\n",
        "    add_attention = tf.keras.layers.add([attention2, attention1])\n",
        "    attention2 = tf.keras.layers.LayerNormalization(epsilon=1e-6)(add_attention)\n",
        "\n",
        "    # Feedforward part\n",
        "    outputs = tf.keras.layers.Dense(units=units, activation=\"relu\")(attention2)\n",
        "    outputs = tf.keras.layers.Dense(units=d_model)(outputs)\n",
        "    outputs = tf.keras.layers.Dropout(rate=dropout)(outputs)\n",
        "\n",
        "    # Skip connection and layer normalization\n",
        "    add_attention = tf.keras.layers.add([outputs, attention2])\n",
        "    outputs = tf.keras.layers.LayerNormalization(epsilon=1e-6)(add_attention)\n",
        "\n",
        "    return tf.keras.Model(\n",
        "        inputs=[inputs, enc_outputs, look_ahead_mask, padding_mask],\n",
        "        outputs=outputs,\n",
        "        name=name,\n",
        "    )"
      ]
    },
    {
      "cell_type": "markdown",
      "metadata": {
        "id": "NPSKnjS-gE_q",
        "pycharm": {
          "name": "#%% md\n"
        }
      },
      "source": [
        "### Decoder\n",
        "\n",
        "The Decoder consists of:\n",
        "1.   Output Embedding\n",
        "2.   Positional Encoding\n",
        "3.   N decoder layers\n",
        "\n",
        "The target is put through an embedding which is summed with the positional encoding. The output of this summation is the input to the decoder layers. The output of the decoder is the input to the final linear layer."
      ]
    },
    {
      "cell_type": "code",
      "execution_count": 23,
      "metadata": {
        "id": "dYRx7YzCW4bu",
        "pycharm": {
          "name": "#%%\n"
        }
      },
      "outputs": [],
      "source": [
        "# Create a decoder for a transformer model.\n",
        "\n",
        "# Args:\n",
        "# vocab_size (int): Size of the vocabulary.\n",
        "# num_layers (int): Number of decoder layers.\n",
        "# units (int): Number of units in the feedforward part of each layer.\n",
        "# d_model (int): Dimensionality of the model.\n",
        "# num_heads (int): Number of attention heads in the multi-head attention layers.\n",
        "# dropout (float): Dropout rate.\n",
        "# name (str): Name of the decoder.\n",
        "\n",
        "# Returns:\n",
        "# tf.keras.Model: Decoder model.\n",
        "\n",
        "def decoder(vocab_size, num_layers, units, d_model, num_heads, dropout, name=\"decoder\"):\n",
        "    inputs = tf.keras.Input(shape=(None,), name=\"inputs\")\n",
        "    enc_outputs = tf.keras.Input(shape=(None, d_model), name=\"encoder_outputs\")\n",
        "    look_ahead_mask = tf.keras.Input(shape=(1, None, None), name=\"look_ahead_mask\")\n",
        "    padding_mask = tf.keras.Input(shape=(1, 1, None), name=\"padding_mask\")\n",
        "\n",
        "    # Embedding layer with positional encoding\n",
        "    embeddings = tf.keras.layers.Embedding(vocab_size, d_model)(inputs)\n",
        "    embeddings *= tf.keras.layers.Lambda(\n",
        "        lambda d_model: tf.math.sqrt(tf.cast(d_model, tf.float32))\n",
        "    )(d_model)\n",
        "    embeddings = PositionalEncoding(vocab_size, d_model)(embeddings)\n",
        "\n",
        "    outputs = tf.keras.layers.Dropout(rate=dropout)(embeddings)\n",
        "\n",
        "    # Stack multiple decoder layers\n",
        "    for i in range(num_layers):\n",
        "        outputs = decoder_layer(\n",
        "            units=units,\n",
        "            d_model=d_model,\n",
        "            num_heads=num_heads,\n",
        "            dropout=dropout,\n",
        "            name=\"decoder_layer_{}\".format(i),\n",
        "        )(inputs=[outputs, enc_outputs, look_ahead_mask, padding_mask])\n",
        "\n",
        "    return tf.keras.Model(\n",
        "        inputs=[inputs, enc_outputs, look_ahead_mask, padding_mask],\n",
        "        outputs=outputs,\n",
        "        name=name,\n",
        "    )\n"
      ]
    },
    {
      "cell_type": "markdown",
      "metadata": {
        "id": "yl0o97RJXAqw",
        "pycharm": {
          "name": "#%% md\n"
        }
      },
      "source": [
        "### Transformer\n",
        "\n",
        "Transformer consists of the encoder, decoder and a final linear layer. The output of the decoder is the input to the linear layer and its output is returned."
      ]
    },
    {
      "cell_type": "code",
      "execution_count": 24,
      "metadata": {
        "id": "TW-v7Fz6XAfC",
        "pycharm": {
          "name": "#%%\n"
        }
      },
      "outputs": [],
      "source": [
        "# Create a transformer model.\n",
        "\n",
        "# Args:\n",
        "# vocab_size (int): Size of the vocabulary.\n",
        "# num_layers (int): Number of encoder and decoder layers.\n",
        "# units (int): Number of units in the feedforward part of each layer.\n",
        "# d_model (int): Dimensionality of the model.\n",
        "# num_heads (int): Number of attention heads in the multi-head attention layers.\n",
        "# dropout (float): Dropout rate.\n",
        "# name (str): Name of the transformer model.\n",
        "\n",
        "# Returns:\n",
        "# tf.keras.Model: Transformer model.\n",
        "\n",
        "def transformer(\n",
        "    vocab_size, num_layers, units, d_model, num_heads, dropout, name=\"transformer\"\n",
        "):\n",
        "    inputs = tf.keras.Input(shape=(None,), name=\"inputs\")\n",
        "    dec_inputs = tf.keras.Input(shape=(None,), name=\"dec_inputs\")\n",
        "\n",
        "    # Mask for encoder inputs\n",
        "    enc_padding_mask = tf.keras.layers.Lambda(\n",
        "        create_padding_mask, output_shape=(1, 1, None), name=\"enc_padding_mask\"\n",
        "    )(inputs)\n",
        "\n",
        "    # Mask for future tokens in decoder inputs\n",
        "    look_ahead_mask = tf.keras.layers.Lambda(\n",
        "        create_look_ahead_mask, output_shape=(1, None, None), name=\"look_ahead_mask\"\n",
        "    )(dec_inputs)\n",
        "\n",
        "    # Mask for encoder outputs in decoder inputs\n",
        "    dec_padding_mask = tf.keras.layers.Lambda(\n",
        "        create_padding_mask, output_shape=(1, 1, None), name=\"dec_padding_mask\"\n",
        "    )(inputs)\n",
        "\n",
        "    # Encoder\n",
        "    enc_outputs = encoder(\n",
        "        vocab_size=vocab_size,\n",
        "        num_layers=num_layers,\n",
        "        units=units,\n",
        "        d_model=d_model,\n",
        "        num_heads=num_heads,\n",
        "        dropout=dropout,\n",
        "    )(inputs=[inputs, enc_padding_mask])\n",
        "\n",
        "    # Decoder\n",
        "    dec_outputs = decoder(\n",
        "        vocab_size=vocab_size,\n",
        "        num_layers=num_layers,\n",
        "        units=units,\n",
        "        d_model=d_model,\n",
        "        num_heads=num_heads,\n",
        "        dropout=dropout,\n",
        "    )(inputs=[dec_inputs, enc_outputs, look_ahead_mask, dec_padding_mask])\n",
        "\n",
        "    # Output layer\n",
        "    outputs = tf.keras.layers.Dense(units=vocab_size, name=\"outputs\")(dec_outputs)\n",
        "\n",
        "    return tf.keras.Model(inputs=[inputs, dec_inputs], outputs=outputs, name=name)"
      ]
    },
    {
      "cell_type": "markdown",
      "metadata": {
        "id": "9HD7GK-nh_KT",
        "pycharm": {
          "name": "#%% md\n"
        }
      },
      "source": [
        "## Train model"
      ]
    },
    {
      "cell_type": "markdown",
      "metadata": {
        "id": "0_GCb0LaV1tI",
        "pycharm": {
          "name": "#%% md\n"
        }
      },
      "source": [
        "### Loss function\n",
        "\n",
        "Since the target sequences are padded, it is important to apply a padding mask when calculating the loss."
      ]
    },
    {
      "cell_type": "code",
      "execution_count": 25,
      "metadata": {
        "id": "UInVM9iGAMv1",
        "pycharm": {
          "name": "#%%\n"
        }
      },
      "outputs": [],
      "source": [
        "# Calculate the loss for the transformer model.\n",
        "\n",
        "# Args:\n",
        "# y_true (tensor): True labels.\n",
        "# y_pred (tensor): Predicted labels.\n",
        "\n",
        "# Returns:\n",
        "# float: Mean loss.\n",
        "\n",
        "def loss_function(y_true, y_pred):\n",
        "    # Reshape y_true to match the model's output shape\n",
        "    y_true = tf.reshape(y_true, shape=(-1, MAX_LENGTH - 1))\n",
        "\n",
        "    # Sparse categorical cross-entropy loss with mask\n",
        "    loss = tf.keras.losses.SparseCategoricalCrossentropy(\n",
        "        from_logits=True, reduction=\"none\"\n",
        "    )(y_true, y_pred)\n",
        "\n",
        "    # Mask for non-padded positions\n",
        "    mask = tf.cast(tf.not_equal(y_true, 0), tf.float32)\n",
        "    loss = tf.multiply(loss, mask)\n",
        "\n",
        "    # Compute mean of the loss\n",
        "    return tf.reduce_mean(loss)"
      ]
    },
    {
      "cell_type": "markdown",
      "metadata": {
        "id": "XvFM9ajSVybP",
        "pycharm": {
          "name": "#%% md\n"
        }
      },
      "source": [
        "### Custom learning rate\n",
        "\n",
        "Use the Adam optimizer with a custom learning rate scheduler according to the formula in the [paper](https://arxiv.org/abs/1706.03762).\n",
        "\n",
        "$$\\Large{lrate = d_{model}^{-0.5} * min(step{\\_}num^{-0.5}, step{\\_}num * warmup{\\_}steps^{-1.5})}$$"
      ]
    },
    {
      "cell_type": "code",
      "execution_count": 26,
      "metadata": {
        "id": "WW3SeLDhAMJd",
        "pycharm": {
          "name": "#%%\n"
        }
      },
      "outputs": [],
      "source": [
        "class CustomSchedule(tf.keras.optimizers.schedules.LearningRateSchedule):\n",
        "#     Custom learning rate schedule.\n",
        "\n",
        "#     Args:\n",
        "#     - d_model (int): Dimensionality of the model.\n",
        "#     - warmup_steps (int): Number of warmup steps during training.\n",
        "\n",
        "#     Returns:\n",
        "#     - None\n",
        "    def __init__(self, d_model, warmup_steps=4000):\n",
        "        super(CustomSchedule, self).__init__()\n",
        "\n",
        "        self.d_model = tf.constant(d_model, dtype=tf.float32)  # Ensure d_model is of float32 type\n",
        "        self.warmup_steps = warmup_steps\n",
        "\n",
        "#     Get the configuration of the learning rate schedule.\n",
        "\n",
        "#     Args:\n",
        "#     - None\n",
        "\n",
        "#     Returns:\n",
        "#     - dict: A dictionary containing the configuration parameters.\n",
        "    def get_config(self):\n",
        "        return {\"d_model\": self.d_model.numpy(), \"warmup_steps\": self.warmup_steps}\n",
        "\n",
        "\n",
        "\n",
        "#     Compute the learning rate for a given step.\n",
        "\n",
        "#     Args:\n",
        "#     - step (tf.Tensor): Current training step.\n",
        "\n",
        "#     Returns:\n",
        "#     - tf.Tensor: Computed learning rate.\n",
        "    def __call__(self, step):\n",
        "        arg1 = tf.math.rsqrt(tf.cast(step, tf.float32))\n",
        "        arg2 = tf.cast(step, tf.float32) * (self.warmup_steps**-1.5)\n",
        "\n",
        "        return tf.math.multiply(\n",
        "            tf.math.rsqrt(self.d_model), tf.math.minimum(arg1, arg2)\n",
        "        )"
      ]
    },
    {
      "cell_type": "markdown",
      "metadata": {
        "id": "cCqve3kwWCxd",
        "pycharm": {
          "name": "#%% md\n"
        }
      },
      "source": [
        "## Initialize and compile model\n",
        "\n",
        "Initialize and compile model with our predefined custom learning rate and Adam optimizer under the strategy scope."
      ]
    },
    {
      "cell_type": "code",
      "execution_count": 27,
      "metadata": {
        "id": "s9wTPaX-Bh8f"
      },
      "outputs": [],
      "source": [
        "# Compute accuracy between true and predicted sequences.\n",
        "\n",
        "# Args:\n",
        "# - y_true (tf.Tensor): True labels.\n",
        "# - y_pred (tf.Tensor): Predicted probabilities.\n",
        "\n",
        "# Returns:\n",
        "# - tf.Tensor: Computed accuracy.\n",
        "\n",
        "def accuracy(y_true, y_pred):\n",
        "    # Ensure labels have shape (batch_size, MAX_LENGTH - 1)\n",
        "    y_true = tf.reshape(y_true, shape=(-1, MAX_LENGTH - 1))\n",
        "\n",
        "    # Use sparse categorical accuracy\n",
        "    return tf.keras.metrics.sparse_categorical_accuracy(y_true, y_pred)"
      ]
    },
    {
      "cell_type": "code",
      "execution_count": 28,
      "metadata": {
        "colab": {
          "base_uri": "https://localhost:8080/"
        },
        "id": "1QqojIa5WEQq",
        "outputId": "7846db0f-fad3-435d-ea57-e55e53eea208",
        "pycharm": {
          "name": "#%%\n"
        }
      },
      "outputs": [
        {
          "output_type": "stream",
          "name": "stdout",
          "text": [
            "Model: \"transformer\"\n",
            "__________________________________________________________________________________________________\n",
            " Layer (type)                Output Shape                 Param #   Connected to                  \n",
            "==================================================================================================\n",
            " inputs (InputLayer)         [(None, None)]               0         []                            \n",
            "                                                                                                  \n",
            " dec_inputs (InputLayer)     [(None, None)]               0         []                            \n",
            "                                                                                                  \n",
            " enc_padding_mask (Lambda)   (None, 1, 1, None)           0         ['inputs[0][0]']              \n",
            "                                                                                                  \n",
            " encoder (Functional)        (None, None, 256)            3146752   ['inputs[0][0]',              \n",
            "                                                                     'enc_padding_mask[0][0]']    \n",
            "                                                                                                  \n",
            " look_ahead_mask (Lambda)    (None, 1, None, None)        0         ['dec_inputs[0][0]']          \n",
            "                                                                                                  \n",
            " dec_padding_mask (Lambda)   (None, 1, 1, None)           0         ['inputs[0][0]']              \n",
            "                                                                                                  \n",
            " decoder (Functional)        (None, None, 256)            3674112   ['dec_inputs[0][0]',          \n",
            "                                                                     'encoder[0][0]',             \n",
            "                                                                     'look_ahead_mask[0][0]',     \n",
            "                                                                     'dec_padding_mask[0][0]']    \n",
            "                                                                                                  \n",
            " outputs (Dense)             (None, None, 8174)           2100718   ['decoder[0][0]']             \n",
            "                                                                                                  \n",
            "==================================================================================================\n",
            "Total params: 8921582 (34.03 MB)\n",
            "Trainable params: 8921582 (34.03 MB)\n",
            "Non-trainable params: 0 (0.00 Byte)\n",
            "__________________________________________________________________________________________________\n"
          ]
        }
      ],
      "source": [
        "# Clear backend\n",
        "tf.keras.backend.clear_session()\n",
        "\n",
        "# Create a custom learning rate schedule\n",
        "learning_rate = CustomSchedule(D_MODEL)\n",
        "\n",
        "# Create an Adam optimizer with custom learning rate\n",
        "optimizer_adam = tf.keras.optimizers.legacy.Adam(\n",
        "    learning_rate=learning_rate, beta_1=0.9, beta_2=0.98, epsilon=1e-9\n",
        ")\n",
        "\n",
        "# Create an Rmsprop optimizer with custom learning rate\n",
        "optimizer_rmsprop = tf.keras.optimizers.RMSprop(learning_rate=learning_rate)\n",
        "\n",
        "# Initialize and compile the model within the strategy scope\n",
        "with strategy.scope():\n",
        "    # Create the transformer model\n",
        "    model = transformer(\n",
        "        vocab_size=VOCAB_SIZE,\n",
        "        num_layers=NUM_LAYERS,\n",
        "        units=UNITS,\n",
        "        d_model=D_MODEL,\n",
        "        num_heads=NUM_HEADS,\n",
        "        dropout=DROPOUT,\n",
        "    )\n",
        "\n",
        "    # Compile the model with the custom optimizer, loss function, and accuracy metric\n",
        "    model.compile(optimizer=optimizer_rmsprop, loss=loss_function, metrics=[accuracy])\n",
        "\n",
        "# Display the model summary\n",
        "model.summary()"
      ]
    },
    {
      "cell_type": "markdown",
      "metadata": {
        "id": "vDMd69urLNuc",
        "pycharm": {
          "name": "#%% md\n"
        }
      },
      "source": [
        "### Fit model\n",
        "\n",
        "Train our transformer by simply calling `model.fit()`"
      ]
    },
    {
      "cell_type": "code",
      "execution_count": 29,
      "metadata": {
        "colab": {
          "base_uri": "https://localhost:8080/"
        },
        "id": "d7iahRzlLNG2",
        "outputId": "8c3f9dd8-89c3-4b06-ae17-6625640d1fd4",
        "pycharm": {
          "name": "#%%\n"
        }
      },
      "outputs": [
        {
          "output_type": "stream",
          "name": "stdout",
          "text": [
            "Epoch 1/60\n",
            "1373/1373 [==============================] - 116s 70ms/step - loss: 1.9738 - accuracy: 0.0496\n",
            "Epoch 2/60\n",
            "1373/1373 [==============================] - 80s 58ms/step - loss: 1.4777 - accuracy: 0.0817\n",
            "Epoch 3/60\n",
            "1373/1373 [==============================] - 79s 58ms/step - loss: 1.3888 - accuracy: 0.0874\n",
            "Epoch 4/60\n",
            "1373/1373 [==============================] - 80s 58ms/step - loss: 1.3294 - accuracy: 0.0920\n",
            "Epoch 5/60\n",
            "1373/1373 [==============================] - 80s 58ms/step - loss: 1.2779 - accuracy: 0.0958\n",
            "Epoch 6/60\n",
            "1373/1373 [==============================] - 79s 58ms/step - loss: 1.2384 - accuracy: 0.0988\n",
            "Epoch 7/60\n",
            "1373/1373 [==============================] - 78s 57ms/step - loss: 1.2062 - accuracy: 0.1012\n",
            "Epoch 8/60\n",
            "1373/1373 [==============================] - 80s 58ms/step - loss: 1.1789 - accuracy: 0.1034\n",
            "Epoch 9/60\n",
            "1373/1373 [==============================] - 79s 57ms/step - loss: 1.1547 - accuracy: 0.1054\n",
            "Epoch 10/60\n",
            "1373/1373 [==============================] - 79s 58ms/step - loss: 1.1334 - accuracy: 0.1072\n",
            "Epoch 11/60\n",
            "1373/1373 [==============================] - 79s 57ms/step - loss: 1.1135 - accuracy: 0.1092\n",
            "Epoch 12/60\n",
            "1373/1373 [==============================] - 80s 58ms/step - loss: 1.0949 - accuracy: 0.1109\n",
            "Epoch 13/60\n",
            "1373/1373 [==============================] - 79s 58ms/step - loss: 1.0773 - accuracy: 0.1128\n",
            "Epoch 14/60\n",
            "1373/1373 [==============================] - 80s 58ms/step - loss: 1.0614 - accuracy: 0.1144\n",
            "Epoch 15/60\n",
            "1373/1373 [==============================] - 78s 57ms/step - loss: 1.0457 - accuracy: 0.1161\n",
            "Epoch 16/60\n",
            "1373/1373 [==============================] - 80s 58ms/step - loss: 1.0309 - accuracy: 0.1176\n",
            "Epoch 17/60\n",
            "1373/1373 [==============================] - 79s 57ms/step - loss: 1.0167 - accuracy: 0.1194\n",
            "Epoch 18/60\n",
            "1373/1373 [==============================] - 80s 58ms/step - loss: 1.0035 - accuracy: 0.1209\n",
            "Epoch 19/60\n",
            "1373/1373 [==============================] - 78s 57ms/step - loss: 0.9905 - accuracy: 0.1224\n",
            "Epoch 20/60\n",
            "1373/1373 [==============================] - 80s 58ms/step - loss: 0.9786 - accuracy: 0.1240\n",
            "Epoch 21/60\n",
            "1373/1373 [==============================] - 78s 57ms/step - loss: 0.9664 - accuracy: 0.1255\n",
            "Epoch 22/60\n",
            "1373/1373 [==============================] - 80s 58ms/step - loss: 0.9555 - accuracy: 0.1268\n",
            "Epoch 23/60\n",
            "1373/1373 [==============================] - 78s 57ms/step - loss: 0.9444 - accuracy: 0.1282\n",
            "Epoch 24/60\n",
            "1373/1373 [==============================] - 80s 58ms/step - loss: 0.9339 - accuracy: 0.1298\n",
            "Epoch 25/60\n",
            "1373/1373 [==============================] - 78s 57ms/step - loss: 0.9243 - accuracy: 0.1311\n",
            "Epoch 26/60\n",
            "1373/1373 [==============================] - 79s 58ms/step - loss: 0.9145 - accuracy: 0.1326\n",
            "Epoch 27/60\n",
            "1373/1373 [==============================] - 78s 57ms/step - loss: 0.9056 - accuracy: 0.1338\n",
            "Epoch 28/60\n",
            "1373/1373 [==============================] - 80s 58ms/step - loss: 0.8971 - accuracy: 0.1352\n",
            "Epoch 29/60\n",
            "1373/1373 [==============================] - 78s 57ms/step - loss: 0.8887 - accuracy: 0.1363\n",
            "Epoch 30/60\n",
            "1373/1373 [==============================] - 80s 58ms/step - loss: 0.8812 - accuracy: 0.1373\n",
            "Epoch 31/60\n",
            "1373/1373 [==============================] - 79s 58ms/step - loss: 0.8731 - accuracy: 0.1386\n",
            "Epoch 32/60\n",
            "1373/1373 [==============================] - 81s 59ms/step - loss: 0.8661 - accuracy: 0.1400\n",
            "Epoch 33/60\n",
            "1373/1373 [==============================] - 81s 59ms/step - loss: 0.8595 - accuracy: 0.1410\n",
            "Epoch 34/60\n",
            "1373/1373 [==============================] - 80s 59ms/step - loss: 0.8531 - accuracy: 0.1419\n",
            "Epoch 35/60\n",
            "1373/1373 [==============================] - 78s 57ms/step - loss: 0.8464 - accuracy: 0.1432\n",
            "Epoch 36/60\n",
            "1373/1373 [==============================] - 80s 58ms/step - loss: 0.8404 - accuracy: 0.1443\n",
            "Epoch 37/60\n",
            "1373/1373 [==============================] - 79s 57ms/step - loss: 0.8349 - accuracy: 0.1454\n",
            "Epoch 38/60\n",
            "1373/1373 [==============================] - 79s 58ms/step - loss: 0.8296 - accuracy: 0.1461\n",
            "Epoch 39/60\n",
            "1373/1373 [==============================] - 78s 57ms/step - loss: 0.8246 - accuracy: 0.1472\n",
            "Epoch 40/60\n",
            "1373/1373 [==============================] - 80s 58ms/step - loss: 0.8196 - accuracy: 0.1481\n",
            "Epoch 41/60\n",
            "1373/1373 [==============================] - 78s 57ms/step - loss: 0.8149 - accuracy: 0.1493\n",
            "Epoch 42/60\n",
            "1373/1373 [==============================] - 78s 57ms/step - loss: 0.8104 - accuracy: 0.1500\n",
            "Epoch 43/60\n",
            "1373/1373 [==============================] - 79s 57ms/step - loss: 0.8056 - accuracy: 0.1510\n",
            "Epoch 44/60\n",
            "1373/1373 [==============================] - 80s 58ms/step - loss: 0.8019 - accuracy: 0.1516\n",
            "Epoch 45/60\n",
            "1373/1373 [==============================] - 79s 57ms/step - loss: 0.7970 - accuracy: 0.1526\n",
            "Epoch 46/60\n",
            "1373/1373 [==============================] - 79s 57ms/step - loss: 0.7932 - accuracy: 0.1535\n",
            "Epoch 47/60\n",
            "1373/1373 [==============================] - 79s 57ms/step - loss: 0.7899 - accuracy: 0.1544\n",
            "Epoch 48/60\n",
            "1373/1373 [==============================] - 79s 57ms/step - loss: 0.7863 - accuracy: 0.1550\n",
            "Epoch 49/60\n",
            "1373/1373 [==============================] - 79s 57ms/step - loss: 0.7822 - accuracy: 0.1560\n",
            "Epoch 50/60\n",
            "1373/1373 [==============================] - 78s 57ms/step - loss: 0.7788 - accuracy: 0.1567\n",
            "Epoch 51/60\n",
            "1373/1373 [==============================] - 79s 57ms/step - loss: 0.7757 - accuracy: 0.1574\n",
            "Epoch 52/60\n",
            "1373/1373 [==============================] - 79s 57ms/step - loss: 0.7721 - accuracy: 0.1582\n",
            "Epoch 53/60\n",
            "1373/1373 [==============================] - 79s 57ms/step - loss: 0.7691 - accuracy: 0.1590\n",
            "Epoch 54/60\n",
            "1373/1373 [==============================] - 78s 57ms/step - loss: 0.7661 - accuracy: 0.1595\n",
            "Epoch 55/60\n",
            "1373/1373 [==============================] - 80s 58ms/step - loss: 0.7628 - accuracy: 0.1602\n",
            "Epoch 56/60\n",
            "1373/1373 [==============================] - 79s 57ms/step - loss: 0.7597 - accuracy: 0.1611\n",
            "Epoch 57/60\n",
            "1373/1373 [==============================] - 79s 57ms/step - loss: 0.7573 - accuracy: 0.1615\n",
            "Epoch 58/60\n",
            "1373/1373 [==============================] - 78s 57ms/step - loss: 0.7542 - accuracy: 0.1623\n",
            "Epoch 59/60\n",
            "1373/1373 [==============================] - 79s 58ms/step - loss: 0.7520 - accuracy: 0.1629\n",
            "Epoch 60/60\n",
            "1373/1373 [==============================] - 78s 57ms/step - loss: 0.7493 - accuracy: 0.1636\n",
            "Time Taken: 4818.5297\n"
          ]
        }
      ],
      "source": [
        "# Record the start time\n",
        "start_time = time.time()\n",
        "\n",
        "# Train the model using the provided dataset for a specified number of epochs\n",
        "history = model.fit(dataset, epochs=EPOCHS)\n",
        "\n",
        "# Record the end time\n",
        "end_time = time.time()\n",
        "\n",
        "# Print the total time taken for training\n",
        "print(f'Time Taken: {end_time - start_time:.4f}')"
      ]
    },
    {
      "cell_type": "code",
      "execution_count": 30,
      "metadata": {
        "id": "yXc6hTxNWiHE",
        "colab": {
          "base_uri": "https://localhost:8080/",
          "height": 564
        },
        "outputId": "a5d5ff6d-dfa4-438b-aa94-9c9559aa0eba"
      },
      "outputs": [
        {
          "output_type": "display_data",
          "data": {
            "text/plain": [
              "<Figure size 1200x600 with 1 Axes>"
            ],
            "image/png": "[encoded data removed]"
          },
          "metadata": {}
        }
      ],
      "source": [
        "# Plot Accuracy and Loss graphs\n",
        "plt.figure(figsize=(12, 6))\n",
        "\n",
        "# Plot accuracy\n",
        "plt.plot(history.history['accuracy'], label='Training Accuracy')\n",
        "\n",
        "# Plot training loss values\n",
        "plt.plot(history.history['loss'], label='Training Loss')\n",
        "\n",
        "# Set labels and title\n",
        "plt.xlabel('Epochs')\n",
        "plt.ylabel('Values')\n",
        "plt.title('Training Accuracy and Loss')\n",
        "\n",
        "# Add a legend\n",
        "plt.legend()\n",
        "\n",
        "# Show the plot\n",
        "plt.show()"
      ]
    },
    {
      "cell_type": "markdown",
      "metadata": {
        "id": "xRsSO_I3NdRt",
        "pycharm": {
          "name": "#%% md\n"
        }
      },
      "source": [
        "### Save and load model"
      ]
    },
    {
      "cell_type": "code",
      "execution_count": 31,
      "metadata": {
        "id": "lDd64uI9NdRt",
        "pycharm": {
          "name": "#%%\n"
        }
      },
      "outputs": [],
      "source": [
        "# filename = \"model.h5\"\n",
        "# tf.keras.models.save_model(model, filepath=filename, include_optimizer=False)"
      ]
    },
    {
      "cell_type": "code",
      "execution_count": 32,
      "metadata": {
        "id": "W0fspHMnZPJl"
      },
      "outputs": [],
      "source": [
        "# del model\n",
        "# tf.keras.backend.clear_session()"
      ]
    },
    {
      "cell_type": "code",
      "execution_count": 33,
      "metadata": {
        "id": "iy9YljYEZQmX"
      },
      "outputs": [],
      "source": [
        "# model = tf.keras.models.load_model(\n",
        "#     'model.h5',\n",
        "#     custom_objects={\n",
        "#         \"PositionalEncoding\": PositionalEncoding,\n",
        "#         \"MultiHeadAttentionLayer\": MultiHeadAttentionLayer,\n",
        "#     },\n",
        "#     compile=False,\n",
        "# )"
      ]
    },
    {
      "cell_type": "code",
      "execution_count": 34,
      "metadata": {
        "id": "kW_7rcqiaPy3"
      },
      "outputs": [],
      "source": [
        "# model.compile(optimizer=optimizer, loss=loss_function, metrics=['accuracy'])"
      ]
    },
    {
      "cell_type": "markdown",
      "metadata": {
        "id": "p1DUXog6WqV-",
        "pycharm": {
          "name": "#%% md\n"
        }
      },
      "source": [
        "## Evaluate and predict\n",
        "\n",
        "The following steps are used for evaluation:\n",
        "\n",
        "* Apply the same preprocessing method we used to create our dataset for the input sentence.\n",
        "* Tokenize the input sentence and add `START_TOKEN` and `END_TOKEN`.\n",
        "* Calculate the padding masks and the look ahead masks.\n",
        "* The decoder then outputs the predictions by looking at the encoder output and its own output.\n",
        "* Select the last word and calculate the argmax of that.\n",
        "* Concatentate the predicted word to the decoder input as pass it to the decoder.\n",
        "* In this approach, the decoder predicts the next word based on the previous words it predicted.\n",
        "\n",
        "Note: The model used here has less capacity and trained on a subset of the full dataset, hence its performance can be further improved."
      ]
    },
    {
      "cell_type": "code",
      "execution_count": 35,
      "metadata": {
        "id": "_NjsS3zuAbRn",
        "pycharm": {
          "name": "#%%\n"
        }
      },
      "outputs": [],
      "source": [
        "# Evaluate a given sentence using the trained transformer model.\n",
        "\n",
        "# Args:\n",
        "# - sentence (str): Input sentence to be evaluated.\n",
        "\n",
        "# Returns:\n",
        "# - tf.Tensor: Predicted output sequence.\n",
        "\n",
        "def evaluate(sentence):\n",
        "    # Preprocess the input sentence\n",
        "    sentence = preprocess_sentence(sentence)\n",
        "\n",
        "    # Add start and end tokens, and expand dimensions for model input\n",
        "    sentence = tf.expand_dims(START_TOKEN + tokenizer.encode(sentence) + END_TOKEN, axis=0)\n",
        "\n",
        "    # Initialize output tensor with start token\n",
        "    output = tf.expand_dims(START_TOKEN, 0)\n",
        "\n",
        "    # Iterate through the maximum allowed length\n",
        "    for i in range(MAX_LENGTH):\n",
        "        # Get model predictions\n",
        "        predictions = model(inputs=[sentence, output], training=False)\n",
        "\n",
        "        # Select the last word from the seq_len dimension\n",
        "        predictions = predictions[:, -1:, :]\n",
        "        predicted_id = tf.cast(tf.argmax(predictions, axis=-1), tf.int32)\n",
        "\n",
        "        # Return the result if the predicted_id is equal to the end token\n",
        "        if tf.equal(predicted_id, END_TOKEN[0]):\n",
        "            break\n",
        "\n",
        "        # Concatenate the predicted_id to the output for the next iteration\n",
        "        output = tf.concat([output, predicted_id], axis=-1)\n",
        "\n",
        "    return tf.squeeze(output, axis=0)"
      ]
    },
    {
      "cell_type": "code",
      "execution_count": 36,
      "metadata": {
        "id": "UlOGYzJ3Bh8g"
      },
      "outputs": [],
      "source": [
        "# Generate a prediction for a given input sentence using the trained transformer model.\n",
        "\n",
        "# Args:\n",
        "# - sentence (str): Input sentence for prediction.\n",
        "\n",
        "# Returns:\n",
        "# - str: Predicted output sentence.\n",
        "\n",
        "def predict(sentence):\n",
        "    # Get the predicted sequence using the evaluate function\n",
        "    prediction = evaluate(sentence)\n",
        "\n",
        "    # Decode the predicted sequence using the tokenizer\n",
        "    predicted_sentence = tokenizer.decode([i for i in prediction if i < tokenizer.vocab_size])\n",
        "\n",
        "    return predicted_sentence"
      ]
    },
    {
      "cell_type": "markdown",
      "metadata": {
        "id": "9J3Jdtk2P-RT",
        "pycharm": {
          "name": "#%% md\n"
        }
      },
      "source": [
        "## Testing our model"
      ]
    },
    {
      "cell_type": "code",
      "execution_count": 37,
      "metadata": {
        "id": "6IeMSGEgRTvC",
        "pycharm": {
          "name": "#%%\n"
        },
        "colab": {
          "base_uri": "https://localhost:8080/",
          "height": 35
        },
        "outputId": "6c74736a-728f-4bd2-ece9-6ff66946cfb6"
      },
      "outputs": [
        {
          "output_type": "execute_result",
          "data": {
            "text/plain": [
              "'to be honest , when i was in to be a dead man . i was getting to a little room for a few minutes .'"
            ],
            "application/vnd.google.colaboratory.intrinsic+json": {
              "type": "string"
            }
          },
          "metadata": {},
          "execution_count": 37
        }
      ],
      "source": [
        "predict(\"Where have you been?\")"
      ]
    },
    {
      "cell_type": "code",
      "execution_count": 38,
      "metadata": {
        "id": "ymqF0sI7DBmM",
        "colab": {
          "base_uri": "https://localhost:8080/",
          "height": 35
        },
        "outputId": "df01ddcc-a0fa-428f-98c1-d4d3fb186f49"
      },
      "outputs": [
        {
          "output_type": "execute_result",
          "data": {
            "text/plain": [
              "'there s a way to go . i know there s a lot of trouble . but i don t want to be an option .'"
            ],
            "application/vnd.google.colaboratory.intrinsic+json": {
              "type": "string"
            }
          },
          "metadata": {},
          "execution_count": 38
        }
      ],
      "source": [
        "predict(\"It's a trap\")"
      ]
    },
    {
      "cell_type": "code",
      "execution_count": 39,
      "metadata": {
        "id": "s5zG7i8KAtRU",
        "pycharm": {
          "name": "#%%\n"
        },
        "colab": {
          "base_uri": "https://localhost:8080/"
        },
        "outputId": "a10e7fbd-095d-4a1d-82e8-958a95cfadfd"
      },
      "outputs": [
        {
          "output_type": "stream",
          "name": "stdout",
          "text": [
            "Input: I am not crazy, my mother had me tested.\n",
            "Output: you didn t even even know the name .\n",
            "\n",
            "Input: you didn t even even know the name .\n",
            "Output: i know that . i know it is the isn t what i thought .\n",
            "\n",
            "Input: i know that . i know it is the isn t what i thought .\n",
            "Output: we can use the phone .\n",
            "\n",
            "Input: we can use the phone .\n",
            "Output: that is that ?\n",
            "\n",
            "Input: that is that ?\n",
            "Output: i am not sure . it is a big house .\n",
            "\n"
          ]
        }
      ],
      "source": [
        "# feed the model with its previous output\n",
        "sentence = \"I am not crazy, my mother had me tested.\"\n",
        "for _ in range(5):\n",
        "    print(f\"Input: {sentence}\")\n",
        "    sentence = predict(sentence)\n",
        "    print(f\"Output: {sentence}\\n\")"
      ]
    }
  ],
  "metadata": {
    "accelerator": "GPU",
    "colab": {
      "gpuType": "T4",
      "provenance": [],
      "toc_visible": true
    },
    "kernelspec": {
      "display_name": "Python 3 (ipykernel)",
      "language": "python",
      "name": "python3"
    },
    "language_info": {
      "codemirror_mode": {
        "name": "ipython",
        "version": 3
      },
      "file_extension": ".py",
      "mimetype": "text/x-python",
      "name": "python",
      "nbconvert_exporter": "python",
      "pygments_lexer": "ipython3",
      "version": "3.11.5"
    },
    "vscode": {
      "interpreter": {
        "hash": "ae3971eee9233ad9f55ed246ea12350df9b5f24d65dffa1d8809b3ad9991640d"
      }
    }
  },
  "nbformat": 4,
  "nbformat_minor": 0
}